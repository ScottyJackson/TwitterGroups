{
 "cells": [
  {
   "cell_type": "markdown",
   "metadata": {},
   "source": [
    "# TwitterGroups\n",
    "The goal of this project is to group Twitter users based on the similarity of their tweets. Applications of doing this could be to generate similar users for someone to follow, or to develop topic groups which certain users belong to, which could then allow someone to explore what users talk about these particular topics.\n",
    "\n",
    "The structure of the project is split into three parts: Collection, Preprocessing, and Modeling. \n",
    "At a high level, \n",
    "These phases are described in detail in the following sections.\n",
    "\n",
    "\n",
    "# Collection\n",
    "This phase is concerned with collecting data from Twitter. For this project, I decided to collect 1000 Tweets from each of my friends (those whom I follow). This should provide a fairly varied group of users, and a large enough sample from each user so as to determine latent topics, while still being small enough that it is computationally feasible using a single machine, and can be collected in a reasonable amount of time given the rate limiting that Twitter enforces on its API calls.    \n",
    "\n",
    "To facilitate this, Tweepy is used as a convenient wrapper to make the API calls, and a MongoDB store is used to store the users and tweets. This is simple to do as calls to the Twitter API return JSON, and MongoDB stores JSON.\n",
    "\n",
    "The following code efficiently gets and stores the user information by first collecting the ids of all friends, \n",
    "and then retrieving their JSON objects 100 at a time using the ids. The ids are pickled for later when the tweets for each user are retrieved. Finally, each user is inserted into the database. "
   ]
  },
  {
   "cell_type": "code",
   "execution_count": 11,
   "metadata": {
    "collapsed": false
   },
   "outputs": [],
   "source": [
    "import config\n",
    "import re\n",
    "import matplotlib.pyplot as plt\n",
    "import seaborn as sns\n",
    "from sklearn.preprocessing import Normalizer \n",
    "from sklearn.feature_extraction.text import TfidfVectorizer\n",
    "from sklearn.decomposition import TruncatedSVD\n",
    "from sklearn.cluster import KMeans\n",
    "from sklearn import metrics\n",
    "from sklearn.pipeline import make_pipeline\n",
    "import nltk\n",
    "from nltk.corpus import stopwords\n",
    "from nltk import word_tokenize\n",
    "from nltk.util import ngrams\n",
    "from nltk.stem.porter import PorterStemmer\n",
    "import string\n",
    "from pymongo import MongoClient\n",
    "from time import time\n",
    "import Stemmer\n",
    "import tweepy\n",
    "from tweepy.parsers import RawParser\n",
    "import json"
   ]
  },
  {
   "cell_type": "code",
   "execution_count": null,
   "metadata": {
    "collapsed": false
   },
   "outputs": [],
   "source": [
    "auth = tweepy.OAuthHandler(config.consumer_key, config.consumer_secret)\n",
    "auth.set_access_token(config.access_token, config.access_token_secret)\n",
    "api = tweepy.API(auth)\n",
    "raw_api = tweepy.API(auth, parser=RawParser())\n",
    "\n",
    "# get mongo store\n",
    "mongo_collection = config.get_mongo_collection()\n",
    "\n",
    "ids = []\n",
    "for page in tweepy.Cursor(api.friends_ids, count=200).pages():\n",
    "    ids.extend(page)\n",
    "\n",
    "ids.append(435495696) # add myself :) \n",
    "\n",
    "# get the json objects, can do 100 ids at a time\n",
    "friends = []\n",
    "for i in range(100, len(ids)+100, 100):\n",
    "    batch = json.loads(raw_api.lookup_users(user_ids=ids[i-100:i]))\n",
    "    friends.extend(batch)\n",
    "\n",
    "for user in friends:\n",
    "    user['tweets'] = []\n",
    "    user['_id'] = user['id_str']\n",
    "    del user['id_str']\n",
    "    mongo_collection.insert_one(user)"
   ]
  },
  {
   "cell_type": "markdown",
   "metadata": {},
   "source": [
    "the next section of code populates the tweets of each user, sleeping in the event that the rate limit is reached "
   ]
  },
  {
   "cell_type": "code",
   "execution_count": null,
   "metadata": {
    "collapsed": true
   },
   "outputs": [],
   "source": [
    "for i, id in enumerate(ids):\n",
    "    print(\"Progress: %d/%d\" % (i+1,len(ids)))\n",
    "    try:\n",
    "        for page in tweepy.Cursor(api.user_timeline, count=200, id=id).pages(5):\n",
    "            statusus  = []\n",
    "            for status in page:\n",
    "                statuses.append(status._json)\n",
    "            collection.update({'_id':str(id)}, {'$push': {'tweets': { '$each': statuses}}})\n",
    "    except tweepy.TweepError:\n",
    "        print(\"RateLimited: Sleeping for 15 minutes\")\n",
    "        time.sleep(6 * 15)"
   ]
  },
  {
   "cell_type": "markdown",
   "metadata": {},
   "source": [
    "# Preprocessing\n",
    "In this next phase, the tweets of each user must be processed into a usable form. This involves cleaning each tweet by removing the mentions (@'s), the # symbol, links, and only keeping words that have a length greater than 2. I also concatenate each users tweets into a single text, as this will allow me to build up a representative body of text over all of the users tweets which I have collected"
   ]
  },
  {
   "cell_type": "code",
   "execution_count": 16,
   "metadata": {
    "collapsed": false
   },
   "outputs": [],
   "source": [
    "mongo_collection = config.get_mongo_collection()\n",
    "\n",
    "users = mongo_collection.find({'statuses_count': {'$gt': 150}}, \n",
    "                              {'tweets':1, 'statuses_count':1, 'screen_name':1, '_id':1})\n",
    "\n",
    "english_stemmer = Stemmer.Stemmer('en')\n",
    "stopset = set(stopwords.words('english') + list(string.punctuation) + \n",
    "    ['fucking', 'fuck', 'shit', 'amp', 'renato', 'nigga', 'niggas', 'ass', 'omg', \n",
    "     'lol','bitch', 'bro', 'lmao', 'haha', 'hahaha']) \n",
    "# remove words which add no meaning, might be a good idea to just remove expletives completely\n",
    "\n",
    "def clean_text(text):\n",
    "    \"\"\"preprocess text by removing all mentions, emojis, links and changing the text to lower case\"\"\"\n",
    "    \n",
    "    # thanks to J.F. Sebastian from \n",
    "    # http://stackoverflow.com/questions/33404752/removing-emojis-from-a-string-in-python\n",
    "    emoji_pattern = re.compile(\"[\"\n",
    "        u\"\\U0001F600-\\U0001F64F\"  # emoticons\n",
    "        u\"\\U0001F300-\\U0001F5FF\"  # symbols & pictographs\n",
    "        u\"\\U0001F680-\\U0001F6FF\"  # transport & map symbols\n",
    "        u\"\\U0001F1E0-\\U0001F1FF\"  # flags (iOS)\n",
    "                           \"]+\", flags=re.UNICODE)\n",
    "    mention_pattern = re.compile(r\"@[^\\s]+\")\n",
    "    url_pattern = re.compile(r\"http\\S+\")\n",
    "    \n",
    "    patterns = [emoji_pattern, mention_pattern, url_pattern]\n",
    "    for p in patterns:\n",
    "        text  = p.sub(r\"\", text)\n",
    "    cleaned_text = text.lower()\n",
    "    return cleaned_text\n",
    "\n",
    "def combine_tweets(tweets):\n",
    "    combined = \"\"\n",
    "    for tweet in tweets:\n",
    "        text = tweet['text']\n",
    "        cleaned = clean_text(text)\n",
    "        combined += cleaned + \" \"\n",
    "    tokens = nltk.word_tokenize(combined)\n",
    "    combined = \" \".join(list(filter(lambda x: len(x) > 2 and x.isalpha(), tokens)))\n",
    "    return combined\n",
    "\n",
    "class StemmedTfidfVectorizer(TfidfVectorizer):\n",
    "    def build_analyzer(self):\n",
    "        analyzer = super(TfidfVectorizer, self).build_analyzer()\n",
    "        return lambda doc: english_stemmer.stemWords(analyzer(doc))"
   ]
  },
  {
   "cell_type": "code",
   "execution_count": 17,
   "metadata": {
    "collapsed": false
   },
   "outputs": [
    {
     "name": "stdout",
     "output_type": "stream",
     "text": [
      "Combining and cleaning tweets\n",
      "Done in 56.615s\n"
     ]
    }
   ],
   "source": [
    "print(\"Combining and cleaning tweets\")\n",
    "t0 = time()\n",
    "user_documents = {}\n",
    "for user in users:\n",
    "    tweets = user['tweets']\n",
    "    user_documents[user['screen_name']] = combine_tweets(tweets)\n",
    "print(\"Done in {:0.3f}s\".format(time()-t0))"
   ]
  },
  {
   "cell_type": "markdown",
   "metadata": {},
   "source": [
    "# Modeling\n",
    "For the modeling phase, I will first convert each user's concatenated tweets into a tf-idf matrix, which will allow us to better represent how important each word is to a particular user. Following this, I will run SVD on the tf-idf matrix in order to map the terms into a latent semantic space. In other words, we want to determine topic groups based on terms in the tf-idf matrix, and how much each user is associated with these groups. Finally, I use K-means to cluster these users, and can then map it back up the pipeline to group the users themselves\n",
    "\n",
    "# TF-IDF\n",
    "Here I make the tfidf matrix with unigrams, bigrams, and trigrams, and set the min/max df params to make sure that only significant words are used in the next steps "
   ]
  },
  {
   "cell_type": "code",
   "execution_count": 48,
   "metadata": {
    "collapsed": false
   },
   "outputs": [
    {
     "name": "stdout",
     "output_type": "stream",
     "text": [
      "Transforming Corpora into tf-idf matrix\n",
      "Done in 14.453s\n"
     ]
    }
   ],
   "source": [
    "print(\"Transforming Corpora into tf-idf matrix\")\n",
    "t0 = time()\n",
    "tfidf = TfidfVectorizer(max_df=.8, min_df=.2, stop_words=stopset, ngram_range=(1,3), use_idf=True)\n",
    "all_user_docs = list(user_documents.values())\n",
    "X = tfidf.fit_transform(all_user_docs)\n",
    "print(\"Done in {:0.3f}s\".format(time()-t0))"
   ]
  },
  {
   "cell_type": "markdown",
   "metadata": {
    "collapsed": true
   },
   "source": [
    "# LSA\n",
    "Here I run SVD on the tf-idf matrix in order to map the corpora into a lower dimensional semantic space. This will be particularly useful for K-means, which performs much better in lower dimensions since it employs euclidean distance measures in it's objective function. It's also important to note that I need to re-standardize here, as SVD does not do this for us "
   ]
  },
  {
   "cell_type": "code",
   "execution_count": 49,
   "metadata": {
    "collapsed": false
   },
   "outputs": [
    {
     "name": "stdout",
     "output_type": "stream",
     "text": [
      "Running LSA on tf-idf\n",
      "Done in 0.246s\n",
      "Variance explained by LSA components: 57%\n"
     ]
    }
   ],
   "source": [
    "print(\"Running LSA on tf-idf\")\n",
    "t0 = time()\n",
    "svd = TruncatedSVD(n_components=70)\n",
    "normalizer = Normalizer(copy=False)\n",
    "lsa = make_pipeline(svd, normalizer)\n",
    "X_lsa = lsa.fit_transform(X)\n",
    "print(\"Done in {:0.3f}s\".format(time()-t0))\n",
    "\n",
    "print(\"Variance explained by LSA components: {}%\"\n",
    "    .format(int(svd.explained_variance_ratio_.sum() * 100)))"
   ]
  },
  {
   "cell_type": "markdown",
   "metadata": {},
   "source": [
    "# K-Means\n",
    "K-Means is a clustering algorithm in the same vein as KNN which tries to cluster vectors (training examples) based on minimizing the __within cluster sum of squares__. In other words, it tries to place examples into clusters based on canonical 'centroids' which serve as the center for these groups. Examples are placed into the cluster for which the centroid is closest. Intuitively, this should result in clusters for which we have the most similar examples grouped together.\n",
    "\n",
    "There are a couple disadvantages to this approach. One: the number of clusters K must be specified beforehand; Two: k-means only allows a single example to belong to a single cluster, but for data such as we have here, a single Twitter user might Tweet about a large variety of subjects.\n",
    "\n",
    "Another approach I might look into is fuzzy c-means clustering.\n",
    "\n",
    "Below I use the so called 'elbow-method' to try and find a good number of clusters to use for the k-means algorithm. It is easy to see large drops in distortion (how dispersed the clusters are) from 0-5 and it slowly declines afterwards; based on some experimentation I have found that for my particular data, a k of about 10 yields good results."
   ]
  },
  {
   "cell_type": "code",
   "execution_count": 50,
   "metadata": {
    "collapsed": false
   },
   "outputs": [
    {
     "data": {
      "image/png": "[encoded data removed]",
      "text/plain": [
       "<matplotlib.figure.Figure at 0x7f2208a55c88>"
      ]
     },
     "metadata": {},
     "output_type": "display_data"
    }
   ],
   "source": [
    "%matplotlib inline \n",
    "min_k = 1\n",
    "max_k = 20\n",
    "by=2\n",
    "distortions = []\n",
    "for i in range(min_k, max_k, by):\n",
    "    km = KMeans(n_clusters=i, init='k-means++', max_iter=300, random_state=0)\n",
    "    km.fit(X_lsa)\n",
    "    distortions.append(km.inertia_)\n",
    "plt.plot(range(min_k, max_k, by), distortions, marker='o')\n",
    "plt.xlabel('Number of clusters')\n",
    "plt.ylabel('Distortion')\n",
    "plt.show()"
   ]
  },
  {
   "cell_type": "code",
   "execution_count": 51,
   "metadata": {
    "collapsed": true
   },
   "outputs": [],
   "source": [
    "k = 10\n",
    "km = KMeans(n_clusters=k, init='k-means++', n_init=1, max_iter=100, random_state=0)\n",
    "km.fit(X_lsa)\n",
    "clusters = km.labels_.tolist()\n",
    "y_km = km.fit_predict(X_lsa)"
   ]
  },
  {
   "cell_type": "code",
   "execution_count": 52,
   "metadata": {
    "collapsed": false
   },
   "outputs": [
    {
     "name": "stdout",
     "output_type": "stream",
     "text": [
      "Top terms per cluster:\n",
      "Cluster 0: rockets nba curry houston team james basketball season texans player\n",
      "Cluster 1: science photo via space youtube earth awesome join latest follow\n",
      "Cluster 2: damn dude dont smoke dick hell hoe weed fuckin dad\n",
      "Cluster 3: happy birthday seriously cute oomf damn literally okay bae text bed\n",
      "Cluster 4: learning deep machine data research article science computer paper google\n",
      "Cluster 5: creek texas happy birthday soccer college clear team football senior state\n",
      "Cluster 6: texans houston football team appreciate nfl season fans baseball congrats\n",
      "Cluster 7: data learning science machine code via using computer language library\n",
      "Cluster 8: trump debate donald hillary texas donald trump election clinton women vote\n",
      "Cluster 9: college dog literally cute texas houston austin semester cause happy birthday\n"
     ]
    }
   ],
   "source": [
    "print(\"Top terms per cluster:\")\n",
    "original_space_centroids = svd.inverse_transform(km.cluster_centers_)\n",
    "order_centroids = original_space_centroids.argsort()[:, ::-1]\n",
    "\n",
    "terms = tfidf.get_feature_names()\n",
    "for i in range(k):\n",
    "    print(\"Cluster %d:\" % i, end='')\n",
    "    for ind in order_centroids[i, :10]:\n",
    "        print(' %s' % terms[ind], end='')\n",
    "    print()"
   ]
  },
  {
   "cell_type": "code",
   "execution_count": 53,
   "metadata": {
    "collapsed": false
   },
   "outputs": [],
   "source": [
    "from sklearn.manifold import MDS\n",
    "from sklearn.metrics.pairwise import cosine_similarity\n",
    "import pandas as pd\n",
    "\n",
    "dist = 1 - cosine_similarity(X_lsa)\n",
    "mds = MDS(n_components=2, dissimilarity=\"precomputed\", random_state=1)\n",
    "pos = mds.fit_transform(dist)\n",
    "xs, ys = pos[:, 0], pos[:, 1]\n",
    "\n",
    "df = pd.DataFrame(dict(x=xs,y=ys,label=clusters,user=list(user_documents.keys())))"
   ]
  },
  {
   "cell_type": "code",
   "execution_count": 54,
   "metadata": {
    "collapsed": false,
    "scrolled": false
   },
   "outputs": [
    {
     "data": {
      "text/plain": [
       "<matplotlib.legend.Legend at 0x7f21f3097f60>"
      ]
     },
     "execution_count": 54,
     "metadata": {},
     "output_type": "execute_result"
    },
    {
     "data": {
      "image/png": "[encoded data removed]",
      "text/plain": [
       "<matplotlib.figure.Figure at 0x7f2236500cf8>"
      ]
     },
     "metadata": {},
     "output_type": "display_data"
    }
   ],
   "source": [
    "%matplotlib inline\n",
    "colors = ['b', 'Brown', 'r', 'c', 'm', 'y', \n",
    "          'Gray', 'Orange', 'LightGreen', \n",
    "          'Pink', 'g', 'Goldenrod',\n",
    "          'Black', 'Khaki', 'Salmon', '#D7BDE2']\n",
    "\n",
    "groups = df.groupby('label')\n",
    "\n",
    "fig,ax = plt.subplots(figsize=(13,12))\n",
    "\n",
    "for name,group in groups:\n",
    "    ax.plot(group.x, group.y, c=colors[name], ms=8, linestyle='', marker='o', label=group.label.iloc[0])\n",
    "plt.legend()"
   ]
  },
  {
   "cell_type": "code",
   "execution_count": 55,
   "metadata": {
    "collapsed": false
   },
   "outputs": [
    {
     "name": "stdout",
     "output_type": "stream",
     "text": [
      "0 ['thejohancheah', 'CraigCanepa', 'daltonfarine', 'BDdonaldV', 'TyPantermuehl', 'AmirSaeed10', 'ceejay_green25', 'HoustonRockets', 'itzdenmark', 'SportsOnIine', 'MGorek2']\n",
      "\n",
      "1 ['google', 'GoogleFacts', 'antoniosmith94', 'UTAustin', 'HilaKleinH3', 'sxsw', 'railstutorial', 'pythoncoders', 'neiltyson', 'alexisholseth', 'ActionBronson', 'elonmusk', 'h3h3productions', 'azizansari', 'EaterAustin', 'morgan_e_stg', 'twitter', 'TwitrCovers', 'ZooeyDeschanel', 'ScienceAllDay', 'RachelSasiene', 'WhiteHouse', 'MellowAustin', 'NASA', 'thejedii_', '12TaylorCOS', 'smoothiekinglc_', 'alispagnola', 'RickandMorty', 'BillGates', 'YouTube', 'chancetherapper', 'ThePSF', 'instagram', 'MacMiller', 'BillNye', 'CallieRossi', 'MarsCuriosity', 'asherroth', 'TeamYouTube', 'jimmyfallon', 'kanyewest', 'stillblazingtho', 'iamjohnoliver', 'Drake', 'TechCrunch', 'NatGeo']\n",
      "\n",
      "2 ['grantwakeboard', 'matlock_caleb', 'John_M2321', 'maddymo6', 'AntiJokeCat', 'ForYourlnfo', 'Salam_Lawal', 'ray_renato', 'Hassaan911', 'Sethrogen', 'landon_abbott', 'gnartlyn', 'hailey_wilk', 'torvonn', 'TierneyConley', '_cool_ranch_', 'AnnaKendrick47', 'ratchetforgirls', 'SenzuBeanAddict', '96Til_Infinity', 'lizzyautrey', 'Soy_Brenden', 'MaxPfotenhauer7', 'OhHiiThereClari', 'MasterPTripleOG', 'ArianFoster', 'SamanthaSinatra', 'sarah_morlan', 'Pha_LyNguyen', 'erickabilse', 'Shoaib_Ali5', 'xovlexis_', 'ReaganSmithhhh', 'ChefSoto18', 'DopeDankkBitxhh', 'AaronKimzey', 'AtaBK', 'ders808', 'UncleBlazer', 'Jenna_Marbles', 'DatGermanKid']\n",
      "\n",
      "3 ['kristynmarie23', 'KayTay96', 'anitasantitos', 'juliahurd', 'hunbunShapley', 'AyyeeDub', 'briblatchley', 'masenaustin96', 'mkokocha', 'awklaurel', 'horgnut', '12_krista', 'AsiaSnyder', 'SoupBoy13', 'Summer123564', 'HannahSpears45', 'masheagonzales', 'SydneyStewart22', 'ArielBacino1', 'Rebel_Tito', 'sara_naismith', 'DanaJonesMusic', 'mirandaperezxo', 'LATCH_O_LAY', 'laylabearrr', 'LexxxxiFarrias', 'R_Boller', 'kenzeryy', 'amber5ever', 'KevinKneupper', 'meggoFTW', 'holly_serena', 'lexustaylorr', 'BekahBoller', 'raynenichole', 'ShannHill16', 'tabithajackson_', 'Kenziewernerx', 'SarahBullock432', 'Cait8080', 'LowrenaG', 'Princesshs13', 'KatianaBerkland', 'allison_med17', 'DinaMarie_H24', 'OhmyGretch', 'nataliepeee', 'ArielBacino', 'janagardner95', 'AshleyLHildreth', 'MadisonAnneHall', 'MswagerNikki']\n",
      "\n",
      "4 ['ylecun', 'karpathy', 'drfeifei', 'AndrewYNg', 'NandoDF', 'RichardSocher']\n",
      "\n",
      "5 ['FarineCole', 'Hollyboyes1222', 'bec_meadows', 'hannahodegard', 'lucca_timmerman', 'Sean_Kelly06', 'louisagomez_', 'devon_brown234', 'stell_swag', 'thebaileyborne', 'A_Clarky3', 'KiraZapalac', 'KerrCameron', 'taylor_gore', 'p_Mullin', 'tina_shmina', 'houstonproblmz', 'tcook3660', 'AngelaHins2', 'Marcoscor25', 'CalebMethvin', '10sbrito1996', 'EmmaStahr1', 'DominiqueAlanis', 'BrittneyWingate', 'BriLovett', 'CamerynCampos']\n",
      "\n",
      "6 ['jamescasey85', 'Merci380', 'JHarden13', 'JJWatt', 'NickScurfield', 'Cole_Anderson86', 'HoustonTexans', 'HoustonDynamo', 'ChaseLowman14', 'ChaseRodJones', 'AdamSchefter', 'briancushing56', 'peachdabomb', 'redhairredflar']\n",
      "\n",
      "7 ['SciPyTip', 'gcosma1', 'DataSciFact', 'ML_toparticles', 'CompSciFact', 'hackingdata']\n",
      "\n",
      "8 ['StephenAtHome', 'kellybrynn_', 'ForbesTech', 'DackJustiz', 'HillaryClinton', 'iamrashidajones', '_Voyke', 'JennaKhakoo', '_felicedad', '22ndPilot', 'JulianJammal7', 'laurenaponce', 'thedailytexan', 'katerichter12', 'abagelrosenthal', 'Dr_RaymondGonzo', 'DeepLearn007', 'michaelasper', 'marshallling', 'Whoknowsaustin', 'TheOnion', 'dreee_h', 'ComedyCentral', 'danieltosh', 'elemental_kosh']\n",
      "\n",
      "9 ['Priddyrobyn', 'ScottJackson97', 'isabelsurface', 'oliviamca', 'MaryMartinez38', 'melissagaffney6', 'iKatGG', 'ClellandBailey', 'kjellyy', 'gabbbs_w', 'Pizzarroll_', 'allisondarr', 'talia_pleason', 'laney_price', 'FillWerrell', '_Thomas_Cox', 'AlisaYefi', 'Megan_Godwin22', 'MGraceAllen', 'haleywalker93', 'gingerforliife', 'Samazon2K', 'EmmaWomersley1', 'KennPossible', 'christinagleas', 'HunterWood_8', 'em_smith2_', 'therealOC15', 'eatbeefgoham', 'geronite20', '_becca_ann__', '_courtneyjean3', 'bobjilldean', 'JenicaYbarra', 'mariapnieto', 'whosnessa_', 'AntoniaTegeler', 'aizahrauf', 'ashleyrmhaas', 'LaneMeade', 'Faye_Bug', 'ginasereni']\n",
      "\n"
     ]
    }
   ],
   "source": [
    "for name,group in groups:\n",
    "    print(name,list(group.user))\n",
    "    print()"
   ]
  },
  {
   "cell_type": "code",
   "execution_count": 56,
   "metadata": {
    "collapsed": false
   },
   "outputs": [
    {
     "name": "stdout",
     "output_type": "stream",
     "text": [
      "271\n"
     ]
    }
   ],
   "source": [
    "print(len(list(user_documents.keys())))"
   ]
  },
  {
   "cell_type": "code",
   "execution_count": 2,
   "metadata": {
    "collapsed": false
   },
   "outputs": [
    {
     "name": "stdout",
     "output_type": "stream",
     "text": [
      "onpick3 scatter: [68 79] [ 0.27010084  0.27593797] [ 0.86314401  0.88932873]\n",
      "onpick3 scatter: [66] [ 0.16777341] [ 0.43057109]\n",
      "onpick3 scatter: [3] [ 0.14716211] [ 0.40059971]\n",
      "onpick3 scatter: [80] [ 0.13090237] [ 0.26863167]\n",
      "onpick3 scatter: [35] [ 0.06929188] [ 0.2221843]\n",
      "onpick3 scatter: [39] [ 0.03418791] [ 0.30126076]\n"
     ]
    }
   ],
   "source": [
    "from matplotlib.pyplot import figure, show\n",
    "import numpy as npy\n",
    "from numpy.random import rand\n",
    "\n",
    "\n",
    "if 1: # picking on a scatter plot (matplotlib.collections.RegularPolyCollection)\n",
    "\n",
    "    x, y, c, s = rand(4, 100)\n",
    "    def onpick3(event):\n",
    "        ind = event.ind\n",
    "        print('onpick3 scatter:', ind, npy.take(x, ind), npy.take(y, ind))\n",
    "\n",
    "    fig = figure()\n",
    "    ax1 = fig.add_subplot(111)\n",
    "    col = ax1.scatter(x, y, 100*s, c, picker=True)\n",
    "    #fig.savefig('pscoll.eps')\n",
    "    fig.canvas.mpl_connect('pick_event', onpick3)\n",
    "\n",
    "show()"
   ]
  },
  {
   "cell_type": "code",
   "execution_count": null,
   "metadata": {
    "collapsed": true
   },
   "outputs": [],
   "source": []
  }
 ],
 "metadata": {
  "anaconda-cloud": {},
  "kernelspec": {
   "display_name": "Python [Root]",
   "language": "python",
   "name": "Python [Root]"
  },
  "language_info": {
   "codemirror_mode": {
    "name": "ipython",
    "version": 3
   },
   "file_extension": ".py",
   "mimetype": "text/x-python",
   "name": "python",
   "nbconvert_exporter": "python",
   "pygments_lexer": "ipython3",
   "version": "3.5.2"
  }
 },
 "nbformat": 4,
 "nbformat_minor": 0
}
